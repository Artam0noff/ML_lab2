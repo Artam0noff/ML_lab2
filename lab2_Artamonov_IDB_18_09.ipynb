{
 "cells": [
  {
   "cell_type": "markdown",
   "metadata": {},
   "source": [
    "# Машинное обучение и интелектуальные системы\n",
    "## Лабораторная работа № 2. Основы машинного обучения\n",
    "### Выполнил: Артамонов Сергей ИДБ-18-09\n",
    "### Часть 1. Визуализация данных. Градиентный спуск.\n",
    "#### Задание 1"
   ]
  },
  {
   "cell_type": "code",
   "execution_count": 1,
   "metadata": {
    "scrolled": true
   },
   "outputs": [
    {
     "data": {
      "text/html": [
       "<div>\n",
       "<style scoped>\n",
       "    .dataframe tbody tr th:only-of-type {\n",
       "        vertical-align: middle;\n",
       "    }\n",
       "\n",
       "    .dataframe tbody tr th {\n",
       "        vertical-align: top;\n",
       "    }\n",
       "\n",
       "    .dataframe thead th {\n",
       "        text-align: right;\n",
       "    }\n",
       "</style>\n",
       "<table border=\"1\" class=\"dataframe\">\n",
       "  <thead>\n",
       "    <tr style=\"text-align: right;\">\n",
       "      <th></th>\n",
       "      <th>sex</th>\n",
       "      <th>weight</th>\n",
       "      <th>height</th>\n",
       "      <th>repwt</th>\n",
       "      <th>repht</th>\n",
       "    </tr>\n",
       "  </thead>\n",
       "  <tbody>\n",
       "    <tr>\n",
       "      <th>1</th>\n",
       "      <td>M</td>\n",
       "      <td>77</td>\n",
       "      <td>182</td>\n",
       "      <td>77.0</td>\n",
       "      <td>180.0</td>\n",
       "    </tr>\n",
       "    <tr>\n",
       "      <th>2</th>\n",
       "      <td>F</td>\n",
       "      <td>58</td>\n",
       "      <td>161</td>\n",
       "      <td>51.0</td>\n",
       "      <td>159.0</td>\n",
       "    </tr>\n",
       "    <tr>\n",
       "      <th>3</th>\n",
       "      <td>F</td>\n",
       "      <td>53</td>\n",
       "      <td>161</td>\n",
       "      <td>54.0</td>\n",
       "      <td>158.0</td>\n",
       "    </tr>\n",
       "    <tr>\n",
       "      <th>4</th>\n",
       "      <td>M</td>\n",
       "      <td>68</td>\n",
       "      <td>177</td>\n",
       "      <td>70.0</td>\n",
       "      <td>175.0</td>\n",
       "    </tr>\n",
       "    <tr>\n",
       "      <th>5</th>\n",
       "      <td>F</td>\n",
       "      <td>59</td>\n",
       "      <td>157</td>\n",
       "      <td>59.0</td>\n",
       "      <td>155.0</td>\n",
       "    </tr>\n",
       "    <tr>\n",
       "      <th>...</th>\n",
       "      <td>...</td>\n",
       "      <td>...</td>\n",
       "      <td>...</td>\n",
       "      <td>...</td>\n",
       "      <td>...</td>\n",
       "    </tr>\n",
       "    <tr>\n",
       "      <th>196</th>\n",
       "      <td>M</td>\n",
       "      <td>74</td>\n",
       "      <td>175</td>\n",
       "      <td>71.0</td>\n",
       "      <td>175.0</td>\n",
       "    </tr>\n",
       "    <tr>\n",
       "      <th>197</th>\n",
       "      <td>M</td>\n",
       "      <td>83</td>\n",
       "      <td>180</td>\n",
       "      <td>80.0</td>\n",
       "      <td>180.0</td>\n",
       "    </tr>\n",
       "    <tr>\n",
       "      <th>198</th>\n",
       "      <td>M</td>\n",
       "      <td>81</td>\n",
       "      <td>175</td>\n",
       "      <td>NaN</td>\n",
       "      <td>NaN</td>\n",
       "    </tr>\n",
       "    <tr>\n",
       "      <th>199</th>\n",
       "      <td>M</td>\n",
       "      <td>90</td>\n",
       "      <td>181</td>\n",
       "      <td>91.0</td>\n",
       "      <td>178.0</td>\n",
       "    </tr>\n",
       "    <tr>\n",
       "      <th>200</th>\n",
       "      <td>M</td>\n",
       "      <td>79</td>\n",
       "      <td>177</td>\n",
       "      <td>81.0</td>\n",
       "      <td>178.0</td>\n",
       "    </tr>\n",
       "  </tbody>\n",
       "</table>\n",
       "<p>200 rows × 5 columns</p>\n",
       "</div>"
      ],
      "text/plain": [
       "    sex  weight  height  repwt  repht\n",
       "1     M      77     182   77.0  180.0\n",
       "2     F      58     161   51.0  159.0\n",
       "3     F      53     161   54.0  158.0\n",
       "4     M      68     177   70.0  175.0\n",
       "5     F      59     157   59.0  155.0\n",
       "..   ..     ...     ...    ...    ...\n",
       "196   M      74     175   71.0  175.0\n",
       "197   M      83     180   80.0  180.0\n",
       "198   M      81     175    NaN    NaN\n",
       "199   M      90     181   91.0  178.0\n",
       "200   M      79     177   81.0  178.0\n",
       "\n",
       "[200 rows x 5 columns]"
      ]
     },
     "execution_count": 1,
     "metadata": {},
     "output_type": "execute_result"
    }
   ],
   "source": [
    "import matplotlib\n",
    "import matplotlib.pyplot as plt\n",
    "import numpy as np\n",
    "import pandas as pd\n",
    "import sklearn\n",
    "\n",
    "\n",
    "dataset = pd.read_csv(\"Davis.csv\", index_col=0)\n",
    "dataset"
   ]
  },
  {
   "cell_type": "markdown",
   "metadata": {},
   "source": [
    " <h3>a) Разделите датасет на 2 выборки (train, test) из 100 человек, с сохранением пропорции полов.</h3>"
   ]
  },
  {
   "cell_type": "code",
   "execution_count": 2,
   "metadata": {},
   "outputs": [
    {
     "name": "stdout",
     "output_type": "stream",
     "text": [
      "0.44\n"
     ]
    }
   ],
   "source": [
    "def proportion(sex):\n",
    "    male = 0;\n",
    "    female = 0;\n",
    "    for s in sex:\n",
    "        if(s == \"M\"):\n",
    "            male += 1;\n",
    "        else:\n",
    "            female += 1;\n",
    "    return male/(male+female)\n",
    "prop = proportion(dataset[\"sex\"])\n",
    "print(prop)  "
   ]
  },
  {
   "cell_type": "code",
   "execution_count": 3,
   "metadata": {},
   "outputs": [
    {
     "name": "stdout",
     "output_type": "stream",
     "text": [
      "0.44\n",
      "0.44\n"
     ]
    }
   ],
   "source": [
    "from sklearn.model_selection import train_test_split\n",
    "train, test = train_test_split(dataset,test_size = 0.5,stratify = dataset['sex'])\n",
    "print(proportion(train['sex']))\n",
    "print(proportion(test['sex']))"
   ]
  },
  {
   "cell_type": "markdown",
   "metadata": {},
   "source": [
    "<h3>б) Очистите выборки от выбросов - людей с нереалистичным ростом/весом</h3>\n",
    "Метод стандартного отклонения"
   ]
  },
  {
   "cell_type": "code",
   "execution_count": 4,
   "metadata": {},
   "outputs": [],
   "source": [
    "import numpy as np\n",
    "def find_anomalies(data):\n",
    "    anomalies = []\n",
    "    data_std = np.std(data)\n",
    "    data_mean = np.mean(data)\n",
    "    anomaly_cut_off = data_std * 3\n",
    "    \n",
    "    lower_limit  = data_mean - anomaly_cut_off \n",
    "    upper_limit = data_mean + anomaly_cut_off\n",
    "\n",
    "    for outlier in data:\n",
    "        if (outlier >= upper_limit) or (outlier <= lower_limit):\n",
    "            anomalies.append(outlier)\n",
    "    return anomalies"
   ]
  },
  {
   "cell_type": "code",
   "execution_count": 5,
   "metadata": {},
   "outputs": [
    {
     "data": {
      "text/plain": [
       "<matplotlib.collections.PathCollection at 0x12138a00>"
      ]
     },
     "execution_count": 5,
     "metadata": {},
     "output_type": "execute_result"
    },
    {
     "data": {
      "image/png": "[encoded data removed]",
      "text/plain": [
       "<Figure size 432x288 with 1 Axes>"
      ]
     },
     "metadata": {
      "needs_background": "light"
     },
     "output_type": "display_data"
    }
   ],
   "source": [
    "\n",
    "plt.scatter(train[\"weight\"],train['height'], c = pd.get_dummies(train, columns=['sex'])['sex_M'])"
   ]
  },
  {
   "cell_type": "code",
   "execution_count": 6,
   "metadata": {},
   "outputs": [
    {
     "name": "stdout",
     "output_type": "stream",
     "text": [
      "[57] [166]\n"
     ]
    },
    {
     "data": {
      "text/plain": [
       "<matplotlib.collections.PathCollection at 0x131e59a0>"
      ]
     },
     "execution_count": 6,
     "metadata": {},
     "output_type": "execute_result"
    },
    {
     "data": {
      "image/png": "[encoded data removed]",
      "text/plain": [
       "<Figure size 432x288 with 1 Axes>"
      ]
     },
     "metadata": {
      "needs_background": "light"
     },
     "output_type": "display_data"
    }
   ],
   "source": [
    "wt_anom = find_anomalies(train['weight'])\n",
    "ht_anom = find_anomalies(train['height'])\n",
    "df = train;\n",
    "print(ht_anom, wt_anom)\n",
    "for a_wt in wt_anom:\n",
    "    df = df.loc[df['weight'] != a_wt]\n",
    "for a_ht in ht_anom:\n",
    "    df = df.loc[df['height'] != a_ht]\n",
    "train = df\n",
    "plt.scatter(train[\"weight\"],train['height'], c = pd.get_dummies(train, columns=['sex'])['sex_M'])"
   ]
  },
  {
   "cell_type": "code",
   "execution_count": 7,
   "metadata": {},
   "outputs": [
    {
     "data": {
      "text/html": [
       "<div>\n",
       "<style scoped>\n",
       "    .dataframe tbody tr th:only-of-type {\n",
       "        vertical-align: middle;\n",
       "    }\n",
       "\n",
       "    .dataframe tbody tr th {\n",
       "        vertical-align: top;\n",
       "    }\n",
       "\n",
       "    .dataframe thead th {\n",
       "        text-align: right;\n",
       "    }\n",
       "</style>\n",
       "<table border=\"1\" class=\"dataframe\">\n",
       "  <thead>\n",
       "    <tr style=\"text-align: right;\">\n",
       "      <th></th>\n",
       "      <th>sex</th>\n",
       "      <th>weight</th>\n",
       "      <th>height</th>\n",
       "      <th>repwt</th>\n",
       "      <th>repht</th>\n",
       "    </tr>\n",
       "  </thead>\n",
       "  <tbody>\n",
       "    <tr>\n",
       "      <th>110</th>\n",
       "      <td>F</td>\n",
       "      <td>59</td>\n",
       "      <td>166</td>\n",
       "      <td>55.0</td>\n",
       "      <td>163.0</td>\n",
       "    </tr>\n",
       "    <tr>\n",
       "      <th>195</th>\n",
       "      <td>F</td>\n",
       "      <td>62</td>\n",
       "      <td>164</td>\n",
       "      <td>61.0</td>\n",
       "      <td>161.0</td>\n",
       "    </tr>\n",
       "    <tr>\n",
       "      <th>87</th>\n",
       "      <td>M</td>\n",
       "      <td>62</td>\n",
       "      <td>178</td>\n",
       "      <td>66.0</td>\n",
       "      <td>175.0</td>\n",
       "    </tr>\n",
       "    <tr>\n",
       "      <th>108</th>\n",
       "      <td>F</td>\n",
       "      <td>57</td>\n",
       "      <td>167</td>\n",
       "      <td>55.0</td>\n",
       "      <td>164.0</td>\n",
       "    </tr>\n",
       "    <tr>\n",
       "      <th>181</th>\n",
       "      <td>M</td>\n",
       "      <td>80</td>\n",
       "      <td>176</td>\n",
       "      <td>78.0</td>\n",
       "      <td>175.0</td>\n",
       "    </tr>\n",
       "    <tr>\n",
       "      <th>...</th>\n",
       "      <td>...</td>\n",
       "      <td>...</td>\n",
       "      <td>...</td>\n",
       "      <td>...</td>\n",
       "      <td>...</td>\n",
       "    </tr>\n",
       "    <tr>\n",
       "      <th>186</th>\n",
       "      <td>F</td>\n",
       "      <td>56</td>\n",
       "      <td>162</td>\n",
       "      <td>56.0</td>\n",
       "      <td>160.0</td>\n",
       "    </tr>\n",
       "    <tr>\n",
       "      <th>109</th>\n",
       "      <td>F</td>\n",
       "      <td>64</td>\n",
       "      <td>166</td>\n",
       "      <td>64.0</td>\n",
       "      <td>165.0</td>\n",
       "    </tr>\n",
       "    <tr>\n",
       "      <th>70</th>\n",
       "      <td>M</td>\n",
       "      <td>80</td>\n",
       "      <td>178</td>\n",
       "      <td>76.0</td>\n",
       "      <td>175.0</td>\n",
       "    </tr>\n",
       "    <tr>\n",
       "      <th>112</th>\n",
       "      <td>M</td>\n",
       "      <td>79</td>\n",
       "      <td>179</td>\n",
       "      <td>79.0</td>\n",
       "      <td>171.0</td>\n",
       "    </tr>\n",
       "    <tr>\n",
       "      <th>4</th>\n",
       "      <td>M</td>\n",
       "      <td>68</td>\n",
       "      <td>177</td>\n",
       "      <td>70.0</td>\n",
       "      <td>175.0</td>\n",
       "    </tr>\n",
       "  </tbody>\n",
       "</table>\n",
       "<p>99 rows × 5 columns</p>\n",
       "</div>"
      ],
      "text/plain": [
       "    sex  weight  height  repwt  repht\n",
       "110   F      59     166   55.0  163.0\n",
       "195   F      62     164   61.0  161.0\n",
       "87    M      62     178   66.0  175.0\n",
       "108   F      57     167   55.0  164.0\n",
       "181   M      80     176   78.0  175.0\n",
       "..   ..     ...     ...    ...    ...\n",
       "186   F      56     162   56.0  160.0\n",
       "109   F      64     166   64.0  165.0\n",
       "70    M      80     178   76.0  175.0\n",
       "112   M      79     179   79.0  171.0\n",
       "4     M      68     177   70.0  175.0\n",
       "\n",
       "[99 rows x 5 columns]"
      ]
     },
     "execution_count": 7,
     "metadata": {},
     "output_type": "execute_result"
    }
   ],
   "source": [
    "train"
   ]
  },
  {
   "cell_type": "code",
   "execution_count": 8,
   "metadata": {},
   "outputs": [
    {
     "data": {
      "text/plain": [
       "<matplotlib.collections.PathCollection at 0x13222778>"
      ]
     },
     "execution_count": 8,
     "metadata": {},
     "output_type": "execute_result"
    },
    {
     "data": {
      "image/png": "[encoded data removed]",
      "text/plain": [
       "<Figure size 432x288 with 1 Axes>"
      ]
     },
     "metadata": {
      "needs_background": "light"
     },
     "output_type": "display_data"
    }
   ],
   "source": [
    "plt.scatter(test[\"weight\"],test['height'], c = pd.get_dummies(test, columns=['sex'])['sex_M'])"
   ]
  },
  {
   "cell_type": "code",
   "execution_count": 9,
   "metadata": {},
   "outputs": [
    {
     "name": "stdout",
     "output_type": "stream",
     "text": [
      "[197]\n"
     ]
    },
    {
     "data": {
      "text/plain": [
       "<matplotlib.collections.PathCollection at 0x1325c418>"
      ]
     },
     "execution_count": 9,
     "metadata": {},
     "output_type": "execute_result"
    },
    {
     "data": {
      "image/png": "[encoded data removed]",
      "text/plain": [
       "<Figure size 432x288 with 1 Axes>"
      ]
     },
     "metadata": {
      "needs_background": "light"
     },
     "output_type": "display_data"
    }
   ],
   "source": [
    "wt_anom = find_anomalies(test['weight'])\n",
    "ht_anom = find_anomalies(test['height'])\n",
    "print(ht_anom)\n",
    "df = test;\n",
    "for a_wt in wt_anom:\n",
    "    df = df.loc[df['weight'] != a_wt]\n",
    "for a_ht in ht_anom:\n",
    "    df = df.loc[df['height'] != a_ht]\n",
    "test = df\n",
    "plt.scatter(test[\"weight\"],test['height'], c = pd.get_dummies(test, columns=['sex'])['sex_M'])"
   ]
  },
  {
   "cell_type": "code",
   "execution_count": 10,
   "metadata": {},
   "outputs": [
    {
     "data": {
      "text/html": [
       "<div>\n",
       "<style scoped>\n",
       "    .dataframe tbody tr th:only-of-type {\n",
       "        vertical-align: middle;\n",
       "    }\n",
       "\n",
       "    .dataframe tbody tr th {\n",
       "        vertical-align: top;\n",
       "    }\n",
       "\n",
       "    .dataframe thead th {\n",
       "        text-align: right;\n",
       "    }\n",
       "</style>\n",
       "<table border=\"1\" class=\"dataframe\">\n",
       "  <thead>\n",
       "    <tr style=\"text-align: right;\">\n",
       "      <th></th>\n",
       "      <th>sex</th>\n",
       "      <th>weight</th>\n",
       "      <th>height</th>\n",
       "      <th>repwt</th>\n",
       "      <th>repht</th>\n",
       "    </tr>\n",
       "  </thead>\n",
       "  <tbody>\n",
       "    <tr>\n",
       "      <th>163</th>\n",
       "      <td>F</td>\n",
       "      <td>53</td>\n",
       "      <td>162</td>\n",
       "      <td>52.0</td>\n",
       "      <td>158.0</td>\n",
       "    </tr>\n",
       "    <tr>\n",
       "      <th>58</th>\n",
       "      <td>M</td>\n",
       "      <td>73</td>\n",
       "      <td>183</td>\n",
       "      <td>74.0</td>\n",
       "      <td>180.0</td>\n",
       "    </tr>\n",
       "    <tr>\n",
       "      <th>173</th>\n",
       "      <td>M</td>\n",
       "      <td>61</td>\n",
       "      <td>170</td>\n",
       "      <td>61.0</td>\n",
       "      <td>170.0</td>\n",
       "    </tr>\n",
       "    <tr>\n",
       "      <th>128</th>\n",
       "      <td>F</td>\n",
       "      <td>45</td>\n",
       "      <td>157</td>\n",
       "      <td>45.0</td>\n",
       "      <td>153.0</td>\n",
       "    </tr>\n",
       "    <tr>\n",
       "      <th>88</th>\n",
       "      <td>F</td>\n",
       "      <td>53</td>\n",
       "      <td>165</td>\n",
       "      <td>53.0</td>\n",
       "      <td>165.0</td>\n",
       "    </tr>\n",
       "    <tr>\n",
       "      <th>...</th>\n",
       "      <td>...</td>\n",
       "      <td>...</td>\n",
       "      <td>...</td>\n",
       "      <td>...</td>\n",
       "      <td>...</td>\n",
       "    </tr>\n",
       "    <tr>\n",
       "      <th>159</th>\n",
       "      <td>F</td>\n",
       "      <td>58</td>\n",
       "      <td>169</td>\n",
       "      <td>NaN</td>\n",
       "      <td>NaN</td>\n",
       "    </tr>\n",
       "    <tr>\n",
       "      <th>160</th>\n",
       "      <td>F</td>\n",
       "      <td>57</td>\n",
       "      <td>167</td>\n",
       "      <td>56.0</td>\n",
       "      <td>165.0</td>\n",
       "    </tr>\n",
       "    <tr>\n",
       "      <th>185</th>\n",
       "      <td>M</td>\n",
       "      <td>70</td>\n",
       "      <td>173</td>\n",
       "      <td>70.0</td>\n",
       "      <td>173.0</td>\n",
       "    </tr>\n",
       "    <tr>\n",
       "      <th>15</th>\n",
       "      <td>F</td>\n",
       "      <td>52</td>\n",
       "      <td>163</td>\n",
       "      <td>57.0</td>\n",
       "      <td>160.0</td>\n",
       "    </tr>\n",
       "    <tr>\n",
       "      <th>67</th>\n",
       "      <td>F</td>\n",
       "      <td>64</td>\n",
       "      <td>165</td>\n",
       "      <td>63.0</td>\n",
       "      <td>163.0</td>\n",
       "    </tr>\n",
       "  </tbody>\n",
       "</table>\n",
       "<p>98 rows × 5 columns</p>\n",
       "</div>"
      ],
      "text/plain": [
       "    sex  weight  height  repwt  repht\n",
       "163   F      53     162   52.0  158.0\n",
       "58    M      73     183   74.0  180.0\n",
       "173   M      61     170   61.0  170.0\n",
       "128   F      45     157   45.0  153.0\n",
       "88    F      53     165   53.0  165.0\n",
       "..   ..     ...     ...    ...    ...\n",
       "159   F      58     169    NaN    NaN\n",
       "160   F      57     167   56.0  165.0\n",
       "185   M      70     173   70.0  173.0\n",
       "15    F      52     163   57.0  160.0\n",
       "67    F      64     165   63.0  163.0\n",
       "\n",
       "[98 rows x 5 columns]"
      ]
     },
     "execution_count": 10,
     "metadata": {},
     "output_type": "execute_result"
    }
   ],
   "source": [
    "test"
   ]
  },
  {
   "cell_type": "markdown",
   "metadata": {},
   "source": [
    "Удаляю значения с NaN"
   ]
  },
  {
   "cell_type": "code",
   "execution_count": 11,
   "metadata": {},
   "outputs": [
    {
     "data": {
      "text/html": [
       "<div>\n",
       "<style scoped>\n",
       "    .dataframe tbody tr th:only-of-type {\n",
       "        vertical-align: middle;\n",
       "    }\n",
       "\n",
       "    .dataframe tbody tr th {\n",
       "        vertical-align: top;\n",
       "    }\n",
       "\n",
       "    .dataframe thead th {\n",
       "        text-align: right;\n",
       "    }\n",
       "</style>\n",
       "<table border=\"1\" class=\"dataframe\">\n",
       "  <thead>\n",
       "    <tr style=\"text-align: right;\">\n",
       "      <th></th>\n",
       "      <th>sex</th>\n",
       "      <th>weight</th>\n",
       "      <th>height</th>\n",
       "      <th>repwt</th>\n",
       "      <th>repht</th>\n",
       "    </tr>\n",
       "  </thead>\n",
       "  <tbody>\n",
       "    <tr>\n",
       "      <th>110</th>\n",
       "      <td>F</td>\n",
       "      <td>59</td>\n",
       "      <td>166</td>\n",
       "      <td>55.0</td>\n",
       "      <td>163.0</td>\n",
       "    </tr>\n",
       "    <tr>\n",
       "      <th>195</th>\n",
       "      <td>F</td>\n",
       "      <td>62</td>\n",
       "      <td>164</td>\n",
       "      <td>61.0</td>\n",
       "      <td>161.0</td>\n",
       "    </tr>\n",
       "    <tr>\n",
       "      <th>87</th>\n",
       "      <td>M</td>\n",
       "      <td>62</td>\n",
       "      <td>178</td>\n",
       "      <td>66.0</td>\n",
       "      <td>175.0</td>\n",
       "    </tr>\n",
       "    <tr>\n",
       "      <th>108</th>\n",
       "      <td>F</td>\n",
       "      <td>57</td>\n",
       "      <td>167</td>\n",
       "      <td>55.0</td>\n",
       "      <td>164.0</td>\n",
       "    </tr>\n",
       "    <tr>\n",
       "      <th>181</th>\n",
       "      <td>M</td>\n",
       "      <td>80</td>\n",
       "      <td>176</td>\n",
       "      <td>78.0</td>\n",
       "      <td>175.0</td>\n",
       "    </tr>\n",
       "    <tr>\n",
       "      <th>...</th>\n",
       "      <td>...</td>\n",
       "      <td>...</td>\n",
       "      <td>...</td>\n",
       "      <td>...</td>\n",
       "      <td>...</td>\n",
       "    </tr>\n",
       "    <tr>\n",
       "      <th>186</th>\n",
       "      <td>F</td>\n",
       "      <td>56</td>\n",
       "      <td>162</td>\n",
       "      <td>56.0</td>\n",
       "      <td>160.0</td>\n",
       "    </tr>\n",
       "    <tr>\n",
       "      <th>109</th>\n",
       "      <td>F</td>\n",
       "      <td>64</td>\n",
       "      <td>166</td>\n",
       "      <td>64.0</td>\n",
       "      <td>165.0</td>\n",
       "    </tr>\n",
       "    <tr>\n",
       "      <th>70</th>\n",
       "      <td>M</td>\n",
       "      <td>80</td>\n",
       "      <td>178</td>\n",
       "      <td>76.0</td>\n",
       "      <td>175.0</td>\n",
       "    </tr>\n",
       "    <tr>\n",
       "      <th>112</th>\n",
       "      <td>M</td>\n",
       "      <td>79</td>\n",
       "      <td>179</td>\n",
       "      <td>79.0</td>\n",
       "      <td>171.0</td>\n",
       "    </tr>\n",
       "    <tr>\n",
       "      <th>4</th>\n",
       "      <td>M</td>\n",
       "      <td>68</td>\n",
       "      <td>177</td>\n",
       "      <td>70.0</td>\n",
       "      <td>175.0</td>\n",
       "    </tr>\n",
       "  </tbody>\n",
       "</table>\n",
       "<p>88 rows × 5 columns</p>\n",
       "</div>"
      ],
      "text/plain": [
       "    sex  weight  height  repwt  repht\n",
       "110   F      59     166   55.0  163.0\n",
       "195   F      62     164   61.0  161.0\n",
       "87    M      62     178   66.0  175.0\n",
       "108   F      57     167   55.0  164.0\n",
       "181   M      80     176   78.0  175.0\n",
       "..   ..     ...     ...    ...    ...\n",
       "186   F      56     162   56.0  160.0\n",
       "109   F      64     166   64.0  165.0\n",
       "70    M      80     178   76.0  175.0\n",
       "112   M      79     179   79.0  171.0\n",
       "4     M      68     177   70.0  175.0\n",
       "\n",
       "[88 rows x 5 columns]"
      ]
     },
     "execution_count": 11,
     "metadata": {},
     "output_type": "execute_result"
    }
   ],
   "source": [
    "train = train.dropna()\n",
    "train"
   ]
  },
  {
   "cell_type": "code",
   "execution_count": 12,
   "metadata": {},
   "outputs": [
    {
     "data": {
      "text/html": [
       "<div>\n",
       "<style scoped>\n",
       "    .dataframe tbody tr th:only-of-type {\n",
       "        vertical-align: middle;\n",
       "    }\n",
       "\n",
       "    .dataframe tbody tr th {\n",
       "        vertical-align: top;\n",
       "    }\n",
       "\n",
       "    .dataframe thead th {\n",
       "        text-align: right;\n",
       "    }\n",
       "</style>\n",
       "<table border=\"1\" class=\"dataframe\">\n",
       "  <thead>\n",
       "    <tr style=\"text-align: right;\">\n",
       "      <th></th>\n",
       "      <th>sex</th>\n",
       "      <th>weight</th>\n",
       "      <th>height</th>\n",
       "      <th>repwt</th>\n",
       "      <th>repht</th>\n",
       "    </tr>\n",
       "  </thead>\n",
       "  <tbody>\n",
       "    <tr>\n",
       "      <th>163</th>\n",
       "      <td>F</td>\n",
       "      <td>53</td>\n",
       "      <td>162</td>\n",
       "      <td>52.0</td>\n",
       "      <td>158.0</td>\n",
       "    </tr>\n",
       "    <tr>\n",
       "      <th>58</th>\n",
       "      <td>M</td>\n",
       "      <td>73</td>\n",
       "      <td>183</td>\n",
       "      <td>74.0</td>\n",
       "      <td>180.0</td>\n",
       "    </tr>\n",
       "    <tr>\n",
       "      <th>173</th>\n",
       "      <td>M</td>\n",
       "      <td>61</td>\n",
       "      <td>170</td>\n",
       "      <td>61.0</td>\n",
       "      <td>170.0</td>\n",
       "    </tr>\n",
       "    <tr>\n",
       "      <th>128</th>\n",
       "      <td>F</td>\n",
       "      <td>45</td>\n",
       "      <td>157</td>\n",
       "      <td>45.0</td>\n",
       "      <td>153.0</td>\n",
       "    </tr>\n",
       "    <tr>\n",
       "      <th>88</th>\n",
       "      <td>F</td>\n",
       "      <td>53</td>\n",
       "      <td>165</td>\n",
       "      <td>53.0</td>\n",
       "      <td>165.0</td>\n",
       "    </tr>\n",
       "    <tr>\n",
       "      <th>...</th>\n",
       "      <td>...</td>\n",
       "      <td>...</td>\n",
       "      <td>...</td>\n",
       "      <td>...</td>\n",
       "      <td>...</td>\n",
       "    </tr>\n",
       "    <tr>\n",
       "      <th>50</th>\n",
       "      <td>F</td>\n",
       "      <td>75</td>\n",
       "      <td>162</td>\n",
       "      <td>75.0</td>\n",
       "      <td>158.0</td>\n",
       "    </tr>\n",
       "    <tr>\n",
       "      <th>160</th>\n",
       "      <td>F</td>\n",
       "      <td>57</td>\n",
       "      <td>167</td>\n",
       "      <td>56.0</td>\n",
       "      <td>165.0</td>\n",
       "    </tr>\n",
       "    <tr>\n",
       "      <th>185</th>\n",
       "      <td>M</td>\n",
       "      <td>70</td>\n",
       "      <td>173</td>\n",
       "      <td>70.0</td>\n",
       "      <td>173.0</td>\n",
       "    </tr>\n",
       "    <tr>\n",
       "      <th>15</th>\n",
       "      <td>F</td>\n",
       "      <td>52</td>\n",
       "      <td>163</td>\n",
       "      <td>57.0</td>\n",
       "      <td>160.0</td>\n",
       "    </tr>\n",
       "    <tr>\n",
       "      <th>67</th>\n",
       "      <td>F</td>\n",
       "      <td>64</td>\n",
       "      <td>165</td>\n",
       "      <td>63.0</td>\n",
       "      <td>163.0</td>\n",
       "    </tr>\n",
       "  </tbody>\n",
       "</table>\n",
       "<p>90 rows × 5 columns</p>\n",
       "</div>"
      ],
      "text/plain": [
       "    sex  weight  height  repwt  repht\n",
       "163   F      53     162   52.0  158.0\n",
       "58    M      73     183   74.0  180.0\n",
       "173   M      61     170   61.0  170.0\n",
       "128   F      45     157   45.0  153.0\n",
       "88    F      53     165   53.0  165.0\n",
       "..   ..     ...     ...    ...    ...\n",
       "50    F      75     162   75.0  158.0\n",
       "160   F      57     167   56.0  165.0\n",
       "185   M      70     173   70.0  173.0\n",
       "15    F      52     163   57.0  160.0\n",
       "67    F      64     165   63.0  163.0\n",
       "\n",
       "[90 rows x 5 columns]"
      ]
     },
     "execution_count": 12,
     "metadata": {},
     "output_type": "execute_result"
    }
   ],
   "source": [
    "test = test.dropna()\n",
    "test"
   ]
  },
  {
   "cell_type": "markdown",
   "metadata": {},
   "source": [
    "<h3>в) Отобразите train-выборку на в виде точек на графике</h3>"
   ]
  },
  {
   "cell_type": "code",
   "execution_count": 13,
   "metadata": {},
   "outputs": [
    {
     "data": {
      "image/png": "[encoded data removed]",
      "text/plain": [
       "<Figure size 432x288 with 1 Axes>"
      ]
     },
     "metadata": {
      "needs_background": "light"
     },
     "output_type": "display_data"
    }
   ],
   "source": [
    "plt.scatter(train[\"weight\"],train['height'], c = train['sex'] == 'M')\n",
    "s=plt.scatter(train[\"weight\"],train['height'], c = train['sex'] == 'M')\n",
    "plt.xlabel('weight')\n",
    "plt.ylabel('height')\n",
    "plt.title('train-выборка')\n",
    "text_labels = ['F','M']\n",
    "plt.legend(s.legend_elements()[0], text_labels,title='sex',loc='upper left')\n",
    "plt.show()"
   ]
  },
  {
   "cell_type": "markdown",
   "metadata": {},
   "source": [
    "<h3>г) Постройте гистограммы:</h3>\n",
    "Роста и веса в целом"
   ]
  },
  {
   "cell_type": "code",
   "execution_count": 14,
   "metadata": {},
   "outputs": [
    {
     "data": {
      "text/plain": [
       "<AxesSubplot:>"
      ]
     },
     "execution_count": 14,
     "metadata": {},
     "output_type": "execute_result"
    },
    {
     "data": {
      "image/png": "[encoded data removed]",
      "text/plain": [
       "<Figure size 432x288 with 1 Axes>"
      ]
     },
     "metadata": {
      "needs_background": "light"
     },
     "output_type": "display_data"
    }
   ],
   "source": [
    "train['height'].hist()\n",
    "train['weight'].hist()\n"
   ]
  },
  {
   "cell_type": "markdown",
   "metadata": {},
   "source": [
    "Роста и веса(только женщины)"
   ]
  },
  {
   "cell_type": "code",
   "execution_count": 15,
   "metadata": {},
   "outputs": [
    {
     "data": {
      "text/plain": [
       "<AxesSubplot:>"
      ]
     },
     "execution_count": 15,
     "metadata": {},
     "output_type": "execute_result"
    },
    {
     "data": {
      "image/png": "[encoded data removed]",
      "text/plain": [
       "<Figure size 432x288 with 1 Axes>"
      ]
     },
     "metadata": {
      "needs_background": "light"
     },
     "output_type": "display_data"
    }
   ],
   "source": [
    "train_female = train.loc[train['sex'] == 'F']\n",
    "train_female['height'].hist()\n",
    "train_female['weight'].hist()"
   ]
  },
  {
   "cell_type": "markdown",
   "metadata": {},
   "source": [
    "Роста и веса(только мужчины)"
   ]
  },
  {
   "cell_type": "code",
   "execution_count": 16,
   "metadata": {},
   "outputs": [
    {
     "data": {
      "text/plain": [
       "<AxesSubplot:>"
      ]
     },
     "execution_count": 16,
     "metadata": {},
     "output_type": "execute_result"
    },
    {
     "data": {
      "image/png": "[encoded data removed]",
      "text/plain": [
       "<Figure size 432x288 with 1 Axes>"
      ]
     },
     "metadata": {
      "needs_background": "light"
     },
     "output_type": "display_data"
    }
   ],
   "source": [
    "train_male = train.loc[train['sex'] == 'M']\n",
    "train_male['height'].hist()\n",
    "train_male['weight'].hist()"
   ]
  },
  {
   "cell_type": "markdown",
   "metadata": {},
   "source": [
    "Величины (repwt - weight) \n",
    "в целом"
   ]
  },
  {
   "cell_type": "code",
   "execution_count": 17,
   "metadata": {},
   "outputs": [
    {
     "data": {
      "text/plain": [
       "<AxesSubplot:>"
      ]
     },
     "execution_count": 17,
     "metadata": {},
     "output_type": "execute_result"
    },
    {
     "data": {
      "image/png": "[encoded data removed]",
      "text/plain": [
       "<Figure size 432x288 with 1 Axes>"
      ]
     },
     "metadata": {
      "needs_background": "light"
     },
     "output_type": "display_data"
    }
   ],
   "source": [
    "(train['repwt']-train['weight']).hist()"
   ]
  },
  {
   "cell_type": "markdown",
   "metadata": {},
   "source": [
    "Величины (repwt - weight)  только женщины"
   ]
  },
  {
   "cell_type": "code",
   "execution_count": 18,
   "metadata": {},
   "outputs": [
    {
     "data": {
      "text/plain": [
       "<AxesSubplot:>"
      ]
     },
     "execution_count": 18,
     "metadata": {},
     "output_type": "execute_result"
    },
    {
     "data": {
      "image/png": "[encoded data removed]",
      "text/plain": [
       "<Figure size 432x288 with 1 Axes>"
      ]
     },
     "metadata": {
      "needs_background": "light"
     },
     "output_type": "display_data"
    }
   ],
   "source": [
    "(train_female['repwt'] - train_female['weight']).hist()"
   ]
  },
  {
   "cell_type": "markdown",
   "metadata": {},
   "source": [
    "Величины (repwt - weight) только мужчины"
   ]
  },
  {
   "cell_type": "code",
   "execution_count": 19,
   "metadata": {},
   "outputs": [
    {
     "data": {
      "text/plain": [
       "<AxesSubplot:>"
      ]
     },
     "execution_count": 19,
     "metadata": {},
     "output_type": "execute_result"
    },
    {
     "data": {
      "image/png": "[encoded data removed]",
      "text/plain": [
       "<Figure size 432x288 with 1 Axes>"
      ]
     },
     "metadata": {
      "needs_background": "light"
     },
     "output_type": "display_data"
    }
   ],
   "source": [
    "(train_male['repwt'] - train_male['weight']).hist()"
   ]
  },
  {
   "cell_type": "markdown",
   "metadata": {},
   "source": [
    "Величины (repht - height) в целом"
   ]
  },
  {
   "cell_type": "code",
   "execution_count": 20,
   "metadata": {},
   "outputs": [
    {
     "data": {
      "text/plain": [
       "<AxesSubplot:>"
      ]
     },
     "execution_count": 20,
     "metadata": {},
     "output_type": "execute_result"
    },
    {
     "data": {
      "image/png": "[encoded data removed]",
      "text/plain": [
       "<Figure size 432x288 with 1 Axes>"
      ]
     },
     "metadata": {
      "needs_background": "light"
     },
     "output_type": "display_data"
    }
   ],
   "source": [
    "(train['repht']-train['height']).hist()"
   ]
  },
  {
   "cell_type": "markdown",
   "metadata": {},
   "source": [
    "Величины (repht - height) только женщины"
   ]
  },
  {
   "cell_type": "code",
   "execution_count": 21,
   "metadata": {},
   "outputs": [
    {
     "data": {
      "text/plain": [
       "<AxesSubplot:>"
      ]
     },
     "execution_count": 21,
     "metadata": {},
     "output_type": "execute_result"
    },
    {
     "data": {
      "image/png": "[encoded data removed]",
      "text/plain": [
       "<Figure size 432x288 with 1 Axes>"
      ]
     },
     "metadata": {
      "needs_background": "light"
     },
     "output_type": "display_data"
    }
   ],
   "source": [
    "(train_female['repht'] - train_female['height']).hist()"
   ]
  },
  {
   "cell_type": "markdown",
   "metadata": {},
   "source": [
    "Величины (repht - height) только мужчины"
   ]
  },
  {
   "cell_type": "code",
   "execution_count": 22,
   "metadata": {},
   "outputs": [
    {
     "data": {
      "text/plain": [
       "<AxesSubplot:>"
      ]
     },
     "execution_count": 22,
     "metadata": {},
     "output_type": "execute_result"
    },
    {
     "data": {
      "image/png": "[encoded data removed]",
      "text/plain": [
       "<Figure size 432x288 with 1 Axes>"
      ]
     },
     "metadata": {
      "needs_background": "light"
     },
     "output_type": "display_data"
    }
   ],
   "source": [
    "(train_male['repht'] - train_male['height']).hist()"
   ]
  },
  {
   "cell_type": "markdown",
   "metadata": {},
   "source": [
    "<h3>д) Постройте генератор данных (sex, height, weight) используя следующую модель:</h3>"
   ]
  },
  {
   "cell_type": "code",
   "execution_count": 23,
   "metadata": {},
   "outputs": [],
   "source": [
    "import scipy\n",
    "class DataGenerator:\n",
    "    def __init__(self):\n",
    "        self.p_woman = None\n",
    "        self.mean_height = {\n",
    "            \"F\":None,\n",
    "            \"M\":None\n",
    "        }\n",
    "        self.mean_weight = {\n",
    "            \"F\": None,\n",
    "            \"M\": None\n",
    "        }\n",
    "        self.covariance = {\n",
    "            \"F\":None,\n",
    "            \"M\":None\n",
    "        }\n",
    "\n",
    "        \n",
    "    def fit(self,X_train):\n",
    "        woman_xtr = X_train.loc[train['sex'] == 'F']\n",
    "        man_xtr = X_train.loc[train['sex'] == 'M']\n",
    "        self.p_woman = len(woman_xtr)/len(X_train)\n",
    "        self.mean_height['M'] = np.mean(man_xtr['height'])\n",
    "        self.mean_height['F'] = np.mean(woman_xtr['height'])\n",
    "        self.mean_weight['M'] = np.mean(man_xtr['weight'])\n",
    "        self.mean_weight['F'] = np.mean(woman_xtr['weight'])\n",
    "        self.covariance['M'] =  np.cov(man_xtr['height'],man_xtr['weight'])\n",
    "        self.covariance['F'] = np.cov(woman_xtr['height'],woman_xtr['weight'])\n",
    "        \n",
    "    \n",
    "    def generate_data(self,n):\n",
    "        result = []\n",
    "        columns_names = ['sex','weight','height']\n",
    "        for i in range(n):\n",
    "            sex = np.random.choice(['F','M'],p=[self.p_woman, 1-self.p_woman])\n",
    "            height,weight = np.random.multivariate_normal(mean=[self.mean_height[sex],self.mean_weight[sex]],cov = self.covariance[sex])\n",
    "            height, weight = np.around(height), np.around(weight) \n",
    "            result.append([sex,weight,height])\n",
    "\n",
    "        df = pd.DataFrame(result, columns=columns_names)\n",
    "        return df\n",
    "    \n",
    "    def log_likelihood(self,X):\n",
    "        man_X = X[(X['sex'] == 'M')][['height', 'weight']]\n",
    "        woman_X = X[(X['sex'] == 'F')][['height', 'weight']]\n",
    "        man_log = np.log((1-self.p_woman) * scipy.stats.multivariate_normal.pdf(\n",
    "            man_X, mean=[self.mean_height['M'], self.mean_weight['M']], cov=self.covariance['M']))\n",
    "        woman_log = np.log(self.p_woman * scipy.stats.multivariate_normal.pdf(\n",
    "            woman_X, mean=[self.mean_height['F'], self.mean_weight['F']], cov=self.covariance['F']))\n",
    "        \n",
    "        return np.concatenate([man_log, woman_log])\n",
    "\n",
    "    \n",
    "    def mean_log_likelihood(self,X):\n",
    "        return self.log_likelihood(X).mean()      "
   ]
  },
  {
   "cell_type": "code",
   "execution_count": 24,
   "metadata": {},
   "outputs": [
    {
     "data": {
      "text/html": [
       "<div>\n",
       "<style scoped>\n",
       "    .dataframe tbody tr th:only-of-type {\n",
       "        vertical-align: middle;\n",
       "    }\n",
       "\n",
       "    .dataframe tbody tr th {\n",
       "        vertical-align: top;\n",
       "    }\n",
       "\n",
       "    .dataframe thead th {\n",
       "        text-align: right;\n",
       "    }\n",
       "</style>\n",
       "<table border=\"1\" class=\"dataframe\">\n",
       "  <thead>\n",
       "    <tr style=\"text-align: right;\">\n",
       "      <th></th>\n",
       "      <th>sex</th>\n",
       "      <th>weight</th>\n",
       "      <th>height</th>\n",
       "    </tr>\n",
       "  </thead>\n",
       "  <tbody>\n",
       "    <tr>\n",
       "      <th>0</th>\n",
       "      <td>F</td>\n",
       "      <td>55.0</td>\n",
       "      <td>159.0</td>\n",
       "    </tr>\n",
       "    <tr>\n",
       "      <th>1</th>\n",
       "      <td>F</td>\n",
       "      <td>62.0</td>\n",
       "      <td>171.0</td>\n",
       "    </tr>\n",
       "    <tr>\n",
       "      <th>2</th>\n",
       "      <td>F</td>\n",
       "      <td>58.0</td>\n",
       "      <td>156.0</td>\n",
       "    </tr>\n",
       "    <tr>\n",
       "      <th>3</th>\n",
       "      <td>F</td>\n",
       "      <td>61.0</td>\n",
       "      <td>157.0</td>\n",
       "    </tr>\n",
       "    <tr>\n",
       "      <th>4</th>\n",
       "      <td>M</td>\n",
       "      <td>66.0</td>\n",
       "      <td>180.0</td>\n",
       "    </tr>\n",
       "    <tr>\n",
       "      <th>...</th>\n",
       "      <td>...</td>\n",
       "      <td>...</td>\n",
       "      <td>...</td>\n",
       "    </tr>\n",
       "    <tr>\n",
       "      <th>95</th>\n",
       "      <td>F</td>\n",
       "      <td>49.0</td>\n",
       "      <td>163.0</td>\n",
       "    </tr>\n",
       "    <tr>\n",
       "      <th>96</th>\n",
       "      <td>F</td>\n",
       "      <td>54.0</td>\n",
       "      <td>165.0</td>\n",
       "    </tr>\n",
       "    <tr>\n",
       "      <th>97</th>\n",
       "      <td>M</td>\n",
       "      <td>101.0</td>\n",
       "      <td>192.0</td>\n",
       "    </tr>\n",
       "    <tr>\n",
       "      <th>98</th>\n",
       "      <td>F</td>\n",
       "      <td>54.0</td>\n",
       "      <td>162.0</td>\n",
       "    </tr>\n",
       "    <tr>\n",
       "      <th>99</th>\n",
       "      <td>F</td>\n",
       "      <td>50.0</td>\n",
       "      <td>162.0</td>\n",
       "    </tr>\n",
       "  </tbody>\n",
       "</table>\n",
       "<p>100 rows × 3 columns</p>\n",
       "</div>"
      ],
      "text/plain": [
       "   sex  weight  height\n",
       "0    F    55.0   159.0\n",
       "1    F    62.0   171.0\n",
       "2    F    58.0   156.0\n",
       "3    F    61.0   157.0\n",
       "4    M    66.0   180.0\n",
       "..  ..     ...     ...\n",
       "95   F    49.0   163.0\n",
       "96   F    54.0   165.0\n",
       "97   M   101.0   192.0\n",
       "98   F    54.0   162.0\n",
       "99   F    50.0   162.0\n",
       "\n",
       "[100 rows x 3 columns]"
      ]
     },
     "execution_count": 24,
     "metadata": {},
     "output_type": "execute_result"
    }
   ],
   "source": [
    "generator = DataGenerator()\n",
    "generator.fit(train)\n",
    "df= generator.generate_data(100)\n",
    "df"
   ]
  },
  {
   "cell_type": "code",
   "execution_count": 25,
   "metadata": {},
   "outputs": [
    {
     "name": "stdout",
     "output_type": "stream",
     "text": [
      "Generated:-7.204763915102624\n",
      "train:-7.2452182415821165\n",
      "test:-7.332292353173912\n"
     ]
    }
   ],
   "source": [
    "generated_log = generator.mean_log_likelihood(df)\n",
    "train_log = generator.mean_log_likelihood(train)\n",
    "test_log = generator.mean_log_likelihood(test)\n",
    "print(f\"Generated:{generated_log}\")\n",
    "print(f\"train:{train_log}\")\n",
    "print(f\"test:{test_log}\")"
   ]
  },
  {
   "cell_type": "code",
   "execution_count": 26,
   "metadata": {},
   "outputs": [
    {
     "data": {
      "text/plain": [
       "Text(0.5, 1.0, 'Generated data')"
      ]
     },
     "execution_count": 26,
     "metadata": {},
     "output_type": "execute_result"
    },
    {
     "data": {
      "image/png": "[encoded data removed]",
      "text/plain": [
       "<Figure size 432x288 with 1 Axes>"
      ]
     },
     "metadata": {
      "needs_background": "light"
     },
     "output_type": "display_data"
    }
   ],
   "source": [
    "import seaborn as sns\n",
    "sns.scatterplot(x=df['height'], y=df['weight'], hue=df['sex'] )\n",
    "plt.title('Generated data')"
   ]
  },
  {
   "cell_type": "markdown",
   "metadata": {},
   "source": [
    "### Задание 2\n",
    "а) Обучите градиентным спуском линейную модель вида:"
   ]
  },
  {
   "cell_type": "code",
   "execution_count": 99,
   "metadata": {},
   "outputs": [],
   "source": [
    "class grad_des_byonesign:\n",
    "    def __init__(self):\n",
    "        self.x_min = None\n",
    "        self.x_max = None\n",
    "        self.y_min = None\n",
    "        self.y_max = None\n",
    "        self.wb_trajectory = {'w':[], 'b':[]} \n",
    "    \n",
    "    def update_w_and_b(self,heights, weights, w, b, alpha):\n",
    "        dl_dw = 0.0\n",
    "        dl_db = 0.0\n",
    "        N = len(heights)\n",
    "\n",
    "        for i in range(N):\n",
    "            dl_dw += -2*heights[i]*(weights[i] - (w*heights[i] + b))\n",
    "            dl_db += -2*(weights[i] - (w*heights[i] + b))\n",
    "\n",
    "\n",
    "        w = w - (1/float(N))*dl_dw*alpha\n",
    "        b = b - (1/float(N))*dl_db*alpha\n",
    "\n",
    "        return w, b\n",
    "\n",
    "    def train(self,heights, weights, w, b, alpha, stage):\n",
    "        self.x_min = heights.min()\n",
    "        self.x_max = heights.max()\n",
    "        self.y_min = weights.min()\n",
    "        self.y_max = weights.max()\n",
    "        heights = (heights - heights.min())/(heights.max() - heights.min())\n",
    "        weights = (weights - weights.min())/(weights.max() - weights.min())\n",
    "        for e in range(stage):\n",
    "            w, b = self.update_w_and_b(heights, weights, w, b, alpha)\n",
    "\n",
    "            if e % 400 == 0:\n",
    "                print(\"stage:\", e, \"loss: \", self.avg_loss(heights, weights, w, b))\n",
    "                self.wb_trajectory['w'].append(w)\n",
    "                self.wb_trajectory['b'].append(b)\n",
    "\n",
    "        return w, b\n",
    "\n",
    "    def get_trajectory(self):\n",
    "        trajx  = {'w':[], 'b':[]}\n",
    "        trajy  = {'w':[], 'b':[]}\n",
    "        trajx['w'] = self.wb_trajectory['w'][:-1]\n",
    "        trajx['b'] = self.wb_trajectory['b'][:-1]\n",
    "        trajy['w'] = self.wb_trajectory['w'][1:]\n",
    "        trajy['b'] = self.wb_trajectory['b'][1:]\n",
    "        trajy['w'] = [trajy['w'][i] - trajx['w'][i] for i in range(len(trajx['w']))]\n",
    "        trajy['b'] = [trajy['b'][i] - trajx['b'][i] for i in range(len(trajx['b']))]\n",
    "        return trajx,trajy\n",
    "\n",
    "    \n",
    "    def avg_loss(self,heights, weights, w, b):\n",
    "        N = len(heights)\n",
    "        total_error = 0.0\n",
    "        for i in range(N):\n",
    "            total_error += (weights[i] - (w*heights[i] + b))**2\n",
    "        return total_error / float(N)\n",
    "    \n",
    "    def predict(self,x, w, b):\n",
    "        x = (x - self.x_min)/(self.x_max - self.x_min)\n",
    "        return (w*x + b)*(self.y_max - self.y_min) + self.y_min\n",
    "\n"
   ]
  },
  {
   "cell_type": "code",
   "execution_count": 100,
   "metadata": {},
   "outputs": [],
   "source": [
    "x = train[\"height\"].values.astype(np.float)\n",
    "y = train[\"weight\"].values.astype(np.float)\n",
    "x_norm = (x - x.min())/(x.max() - x.min())\n",
    "y_norm = (y - y.min())/(y.max() - y.min())"
   ]
  },
  {
   "cell_type": "code",
   "execution_count": 101,
   "metadata": {},
   "outputs": [
    {
     "name": "stdout",
     "output_type": "stream",
     "text": [
      "stage: 0 loss:  0.20930311194396542\n",
      "stage: 400 loss:  0.02504316213975151\n",
      "stage: 800 loss:  0.020095635552264297\n",
      "stage: 1200 loss:  0.017348921429139165\n",
      "stage: 1600 loss:  0.01582403043189465\n",
      "stage: 2000 loss:  0.014977457964122998\n",
      "stage: 2400 loss:  0.014507467030683112\n",
      "stage: 2800 loss:  0.014246542554722868\n",
      "stage: 3200 loss:  0.014101685330229556\n",
      "stage: 3600 loss:  0.014021265065282446\n",
      "stage: 4000 loss:  0.013976618213620158\n",
      "stage: 4400 loss:  0.013951831658083884\n",
      "stage: 4800 loss:  0.013938070926644173\n",
      "stage: 5200 loss:  0.013930431392805816\n",
      "stage: 5600 loss:  0.013926190159153142\n",
      "stage: 6000 loss:  0.013923835556990616\n",
      "stage: 6400 loss:  0.013922528354464692\n",
      "stage: 6800 loss:  0.013921802635924647\n",
      "stage: 7200 loss:  0.01392139973936583\n",
      "stage: 7600 loss:  0.013921176063618083\n",
      "stage: 8000 loss:  0.013921051885739073\n",
      "stage: 8400 loss:  0.01392098294600918\n",
      "stage: 8800 loss:  0.013920944672796616\n",
      "stage: 9200 loss:  0.013920923424689008\n",
      "stage: 9600 loss:  0.01392091162839475\n",
      "W:0.8303679801498653\n",
      "b:-0.013214470420585015\n"
     ]
    }
   ],
   "source": [
    "gd = grad_des_byonesign()\n",
    "\n",
    "w,b = gd.train(x,y , 0.0 , 0.0 , 0.01 ,10000)\n",
    "print(f'W:{w}\\nb:{b}')"
   ]
  },
  {
   "cell_type": "code",
   "execution_count": 102,
   "metadata": {},
   "outputs": [
    {
     "data": {
      "text/plain": [
       "<AxesSubplot:>"
      ]
     },
     "execution_count": 102,
     "metadata": {},
     "output_type": "execute_result"
    },
    {
     "data": {
      "image/png": "[encoded data removed]",
      "text/plain": [
       "<Figure size 432x288 with 1 Axes>"
      ]
     },
     "metadata": {
      "needs_background": "light"
     },
     "output_type": "display_data"
    }
   ],
   "source": [
    "sns.scatterplot(x=x, y=y , hue = train['sex'])\n",
    "sns.lineplot(x=x, y=gd.predict(x,w,b))"
   ]
  },
  {
   "cell_type": "markdown",
   "metadata": {},
   "source": [
    "Визуализируйте минимизируемый критерий:"
   ]
  },
  {
   "cell_type": "code",
   "execution_count": 104,
   "metadata": {},
   "outputs": [
    {
     "data": {
      "image/png": "[encoded data removed]",
      "text/plain": [
       "<Figure size 432x288 with 1 Axes>"
      ]
     },
     "metadata": {
      "needs_background": "light"
     },
     "output_type": "display_data"
    }
   ],
   "source": [
    "ww,bb = np.mgrid[-0.2:1:100j,-0.2:1:100j]\n",
    "\n",
    "criterion = np.zeros(shape = (100,100))\n",
    "\n",
    "for i in range(100):\n",
    "    for j in range(100):\n",
    "        criterion[i,j] = gd.avg_loss(x_norm, y_norm, ww[i,j], bb[i,j])\n",
    "trajx,trajy = gd.get_trajectory()\n",
    "\n",
    "plt.title(\"Contour Plot of Gradient Descent\")\n",
    "plt.contourf(ww, bb, criterion)\n",
    "for i in range(len(traj['w']) - 1):\n",
    "    plt.arrow(trajx['w'][i], trajx['b'][i],trajy['w'][i], \n",
    "              trajy['b'][i], color='RED',width=0.005)\n",
    "    "
   ]
  },
  {
   "cell_type": "code",
   "execution_count": null,
   "metadata": {},
   "outputs": [],
   "source": []
  }
 ],
 "metadata": {
  "kernelspec": {
   "display_name": "Python 3",
   "language": "python",
   "name": "python3"
  },
  "language_info": {
   "codemirror_mode": {
    "name": "ipython",
    "version": 3
   },
   "file_extension": ".py",
   "mimetype": "text/x-python",
   "name": "python",
   "nbconvert_exporter": "python",
   "pygments_lexer": "ipython3",
   "version": "3.8.6"
  }
 },
 "nbformat": 4,
 "nbformat_minor": 4
}
